{
 "cells": [
  {
   "attachments": {},
   "cell_type": "markdown",
   "metadata": {},
   "source": [
    "## Librerias "
   ]
  },
  {
   "attachments": {},
   "cell_type": "markdown",
   "metadata": {},
   "source": [
    "### random"
   ]
  },
  {
   "cell_type": "code",
   "execution_count": 3,
   "metadata": {},
   "outputs": [],
   "source": [
    "import random"
   ]
  },
  {
   "cell_type": "code",
   "execution_count": 44,
   "metadata": {},
   "outputs": [
    {
     "name": "stdout",
     "output_type": "stream",
     "text": [
      "8\n"
     ]
    }
   ],
   "source": [
    "print(random.randint(0,10))"
   ]
  },
  {
   "cell_type": "code",
   "execution_count": 49,
   "metadata": {},
   "outputs": [
    {
     "name": "stdout",
     "output_type": "stream",
     "text": [
      "felicidades, le atinaste al numero 5\n"
     ]
    }
   ],
   "source": [
    "aleatorio= random.randint(1,6)\n",
    "tuyo= int(input(\"Selecciona un numero del 1 al 6\"))\n",
    "if aleatorio > tuyo:\n",
    "    print(f\"Te falto para encontrarlo, era el numero {aleatorio}\")\n",
    "elif aleatorio < tuyo:\n",
    "     print(f\"Te falto para encontrarlo, era el numero {aleatorio}\")\n",
    "else:\n",
    "    print(f\"felicidades, le atinaste al numero {aleatorio}\")"
   ]
  },
  {
   "cell_type": "code",
   "execution_count": 53,
   "metadata": {},
   "outputs": [
    {
     "name": "stdout",
     "output_type": "stream",
     "text": [
      "[8, 5, 15, 18, 21, 21, 8, 11, 14, 18, 3]\n"
     ]
    }
   ],
   "source": [
    "lista = []\n",
    "\n",
    "while len(lista) <= 10:\n",
    "    aleatorio1= random.randint(0,30)\n",
    "    aleatorio1\n",
    "    lista.append(aleatorio1)\n",
    "print(lista) "
   ]
  },
  {
   "cell_type": "code",
   "execution_count": 54,
   "metadata": {},
   "outputs": [
    {
     "name": "stdout",
     "output_type": "stream",
     "text": [
      "['Naranja', 'Manzana', 'Pera', 'Platano']\n"
     ]
    }
   ],
   "source": [
    "mis_frutas= [\"Manzana\", \"Platano\", \"Pera\", \"Naranja\"]\n",
    "random.shuffle(mis_frutas)\n",
    "print(mis_frutas)"
   ]
  },
  {
   "cell_type": "code",
   "execution_count": 55,
   "metadata": {},
   "outputs": [
    {
     "name": "stdout",
     "output_type": "stream",
     "text": [
      "Pera\n"
     ]
    }
   ],
   "source": [
    "print(random.choice(mis_frutas))"
   ]
  },
  {
   "cell_type": "code",
   "execution_count": 56,
   "metadata": {},
   "outputs": [
    {
     "name": "stdout",
     "output_type": "stream",
     "text": [
      "o\n"
     ]
    }
   ],
   "source": [
    "print(random.choice(\"Hola mundo\"))"
   ]
  },
  {
   "cell_type": "code",
   "execution_count": 61,
   "metadata": {},
   "outputs": [
    {
     "name": "stdout",
     "output_type": "stream",
     "text": [
      "Ajolotee\n"
     ]
    }
   ],
   "source": [
    "Texto = \"Ajolote\"\n",
    "Texto += random.choice(\"Ajolote\")\n",
    "print(Texto)"
   ]
  },
  {
   "cell_type": "code",
   "execution_count": 64,
   "metadata": {},
   "outputs": [
    {
     "name": "stdout",
     "output_type": "stream",
     "text": [
      "oieeeeiuia\n"
     ]
    }
   ],
   "source": [
    "string_vacio= \"\"\n",
    "for i in range(10):\n",
    "    string_vacio += random.choice('aeiou')\n",
    "\n",
    "print(string_vacio)"
   ]
  },
  {
   "cell_type": "code",
   "execution_count": 62,
   "metadata": {},
   "outputs": [
    {
     "data": {
      "text/plain": [
       "'hola-Mundo-en-python'"
      ]
     },
     "execution_count": 62,
     "metadata": {},
     "output_type": "execute_result"
    }
   ],
   "source": [
    "\"-\".join([\"hola\", \"Mundo\", \"en\", \"python\"])"
   ]
  },
  {
   "attachments": {},
   "cell_type": "markdown",
   "metadata": {},
   "source": [
    "## Proyecto : Generador de contraseñas\n",
    "Paso 1: Pedir al usuario una longitud n que va a tener su contraseña\n",
    "\n",
    "Paso 2: Crear una funcion  llamada 'Generador de contrasenias' y recibira 1 parametro 'longitud'\n",
    "\n",
    "Paso 3: crear un string llamado 'letras' que va a contener de la A-Z y a-z ejemplo 'ABC......Zabc...z'\n",
    "\n",
    "Paso 4: Crear un string vacio\n",
    "\n",
    "Paso 5: Despues hacer un ciclo que itere sobre 'Longitud'\n",
    "\n",
    "Paso 6:Dentro del ciclo for concatenar nuestra variable 'letras' un 'random.choice' de nuestro string 'letras'\n",
    "\n",
    "Paso 7: Devolver con 'retunr' la variable letra\n",
    "\n",
    "Paso 8: imprimir el resultado"
   ]
  },
  {
   "cell_type": "code",
   "execution_count": 74,
   "metadata": {},
   "outputs": [
    {
     "ename": "TypeError",
     "evalue": "'int' object is not iterable",
     "output_type": "error",
     "traceback": [
      "\u001b[1;31m---------------------------------------------------------------------------\u001b[0m",
      "\u001b[1;31mTypeError\u001b[0m                                 Traceback (most recent call last)",
      "Cell \u001b[1;32mIn[74], line 10\u001b[0m\n\u001b[0;32m      7\u001b[0m         random\u001b[39m.\u001b[39mchoice(letras)\n\u001b[0;32m      8\u001b[0m     \u001b[39mreturn\u001b[39;00m cadena\n\u001b[1;32m---> 10\u001b[0m \u001b[39mprint\u001b[39m(genContrasenia(longitud))\n",
      "Cell \u001b[1;32mIn[74], line 6\u001b[0m, in \u001b[0;36mgenContrasenia\u001b[1;34m(longitu)\u001b[0m\n\u001b[0;32m      4\u001b[0m letras\u001b[39m=\u001b[39m\u001b[39m\"\u001b[39m\u001b[39mABCDEFGHIJKMNOPQRSTUVXYZabcdefghijklmnopqrstuvxyz\u001b[39m\u001b[39m\"\u001b[39m\n\u001b[0;32m      5\u001b[0m cadena \u001b[39m=\u001b[39m \u001b[39m\"\u001b[39m\u001b[39m\"\u001b[39m\n\u001b[1;32m----> 6\u001b[0m \u001b[39mfor\u001b[39;00m i \u001b[39min\u001b[39;00m longitu:\n\u001b[0;32m      7\u001b[0m     random\u001b[39m.\u001b[39mchoice(letras)\n\u001b[0;32m      8\u001b[0m \u001b[39mreturn\u001b[39;00m cadena\n",
      "\u001b[1;31mTypeError\u001b[0m: 'int' object is not iterable"
     ]
    }
   ],
   "source": [
    "longitu =int(input(\"De que longitud deseas su contraseña: \"))\n",
    "\n",
    "def genContrasenia(longitu):\n",
    "    letras=\"ABCDEFGHIJKMNOPQRSTUVXYZabcdefghijklmnopqrstuvxyz\"\n",
    "    cadena = \"\"\n",
    "    for i in longitu:\n",
    "        random.choice(letras)\n",
    "    return cadena\n",
    "\n",
    "print(genContrasenia(longitud))\n"
   ]
  },
  {
   "cell_type": "code",
   "execution_count": 75,
   "metadata": {},
   "outputs": [],
   "source": [
    "def generador_Contrasenia(longitud):\n",
    "    letras=\"ABCDEFGHIJKMNOPQRSTUVXYZabcdefghijklmnopqrstuvxyz\"\n",
    "    string_vacio1 =''\n",
    "    for _ in range(longitud):\n",
    "        string_vacio1 += random.choice(letras)\n",
    "    return string_vacio1\n"
   ]
  },
  {
   "cell_type": "code",
   "execution_count": 76,
   "metadata": {},
   "outputs": [
    {
     "name": "stdout",
     "output_type": "stream",
     "text": [
      "cGOEPzy\n"
     ]
    }
   ],
   "source": [
    "n =int(input(\"De que longitud deseas su contraseña: \"))\n",
    "resultado = generador_Contrasenia(n)\n",
    "print(resultado)"
   ]
  },
  {
   "attachments": {},
   "cell_type": "markdown",
   "metadata": {},
   "source": [
    "# List Comprehension"
   ]
  },
  {
   "cell_type": "code",
   "execution_count": 77,
   "metadata": {},
   "outputs": [
    {
     "data": {
      "text/plain": [
       "[0, 1, 2, 3, 4, 5, 6, 7, 8, 9]"
      ]
     },
     "execution_count": 77,
     "metadata": {},
     "output_type": "execute_result"
    }
   ],
   "source": [
    "[i for i in range(10)]"
   ]
  },
  {
   "cell_type": "code",
   "execution_count": 79,
   "metadata": {},
   "outputs": [
    {
     "data": {
      "text/plain": [
       "[36, 49, 64, 81]"
      ]
     },
     "execution_count": 79,
     "metadata": {},
     "output_type": "execute_result"
    }
   ],
   "source": [
    "[i**2 for i in range(10) if i**2 > 25]"
   ]
  },
  {
   "cell_type": "code",
   "execution_count": 81,
   "metadata": {},
   "outputs": [
    {
     "data": {
      "text/plain": [
       "['a', 'i', 'u', 'o', 'i', 'a', 'u', 'u']"
      ]
     },
     "execution_count": 81,
     "metadata": {},
     "output_type": "execute_result"
    }
   ],
   "source": [
    " [ letra for letra in 'saiubcoiaufu' if letra in 'aeiou']"
   ]
  },
  {
   "attachments": {},
   "cell_type": "markdown",
   "metadata": {},
   "source": [
    "# Dict Comprehension"
   ]
  },
  {
   "cell_type": "code",
   "execution_count": 82,
   "metadata": {},
   "outputs": [],
   "source": [
    "diccionario = {\n",
    "    'Mexico': 'CDMX',\n",
    "    'Colombia': 'Bogota'\n",
    "}"
   ]
  },
  {
   "attachments": {},
   "cell_type": "markdown",
   "metadata": {},
   "source": [
    "## Conjunto"
   ]
  },
  {
   "cell_type": "code",
   "execution_count": 88,
   "metadata": {},
   "outputs": [],
   "source": [
    "conjunto = {'a', 'b', 'c'}"
   ]
  },
  {
   "cell_type": "code",
   "execution_count": 89,
   "metadata": {},
   "outputs": [
    {
     "data": {
      "text/plain": [
       "{'a', 'b', 'c'}"
      ]
     },
     "execution_count": 89,
     "metadata": {},
     "output_type": "execute_result"
    }
   ],
   "source": [
    "conjunto"
   ]
  },
  {
   "cell_type": "code",
   "execution_count": 90,
   "metadata": {},
   "outputs": [
    {
     "data": {
      "text/plain": [
       "{4}"
      ]
     },
     "execution_count": 90,
     "metadata": {},
     "output_type": "execute_result"
    }
   ],
   "source": [
    "a={4,5,6}\n",
    "b={8,4,2}\n",
    "a & b"
   ]
  },
  {
   "attachments": {},
   "cell_type": "markdown",
   "metadata": {},
   "source": [
    "# Tuplas"
   ]
  },
  {
   "cell_type": "code",
   "execution_count": 91,
   "metadata": {},
   "outputs": [],
   "source": [
    "mitupla = (4,5,6)"
   ]
  },
  {
   "cell_type": "code",
   "execution_count": null,
   "metadata": {},
   "outputs": [],
   "source": []
  }
 ],
 "metadata": {
  "kernelspec": {
   "display_name": "Python 3",
   "language": "python",
   "name": "python3"
  },
  "language_info": {
   "codemirror_mode": {
    "name": "ipython",
    "version": 3
   },
   "file_extension": ".py",
   "mimetype": "text/x-python",
   "name": "python",
   "nbconvert_exporter": "python",
   "pygments_lexer": "ipython3",
   "version": "3.8.10"
  },
  "orig_nbformat": 4,
  "vscode": {
   "interpreter": {
    "hash": "a06d58e03d0336be2e768937ced684273b0002afc96425abcd6e235c2e25d7e6"
   }
  }
 },
 "nbformat": 4,
 "nbformat_minor": 2
}
