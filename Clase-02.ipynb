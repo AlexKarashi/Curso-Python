{
 "cells": [
  {
   "cell_type": "markdown",
   "metadata": {},
   "source": [
    "# Clase 02"
   ]
  },
  {
   "cell_type": "markdown",
   "metadata": {},
   "source": [
    "## Encontrar el numero mas grande\n",
    "Encontrar cual es el numero mas grande"
   ]
  },
  {
   "cell_type": "code",
   "execution_count": 4,
   "metadata": {},
   "outputs": [
    {
     "name": "stdout",
     "output_type": "stream",
     "text": [
      "Efectivamente el numero 7 es mayor \n"
     ]
    }
   ],
   "source": [
    "num1 = int(input(\"Ingresa un numero: \"))\n",
    "num2 = int(input(\"Ingresa el otro numero\"))\n",
    "if num1 > num2:\n",
    "    print(f\"Efectivamente el numero {num1} es mayor \")\n",
    "elif num2 > num1:\n",
    "    print(f\"Efectivamente el numero {num2} es mayor \")\n",
    "else:\n",
    "    print(f\"Efectivamente son iguales\")"
   ]
  },
  {
   "cell_type": "markdown",
   "metadata": {},
   "source": [
    "## Listas"
   ]
  },
  {
   "cell_type": "code",
   "execution_count": 8,
   "metadata": {},
   "outputs": [
    {
     "name": "stdout",
     "output_type": "stream",
     "text": [
      "['manzana', 'platano', 'pera']\n"
     ]
    }
   ],
   "source": [
    "mis_frutas = [\"manzana\", \"platano\", \"pera\"]\n",
    "\n",
    "print(mis_frutas)"
   ]
  },
  {
   "cell_type": "code",
   "execution_count": 9,
   "metadata": {},
   "outputs": [
    {
     "name": "stdout",
     "output_type": "stream",
     "text": [
      "['manzana', 'platano', 'pera', 'piña']\n",
      "['manzana', 'platano']\n"
     ]
    }
   ],
   "source": [
    "mis_frutas.append(\"piña\")\n",
    "print(mis_frutas)\n",
    "\n",
    "print(mis_frutas[0:2])"
   ]
  },
  {
   "cell_type": "code",
   "execution_count": 12,
   "metadata": {},
   "outputs": [
    {
     "data": {
      "text/plain": [
       "'Vagabundo'"
      ]
     },
     "execution_count": 12,
     "metadata": {},
     "output_type": "execute_result"
    }
   ],
   "source": [
    "palabra= \"El castillo Vagabundo\"\n",
    "\n",
    "palabra[0:2]\n",
    "palabra[3:11]\n",
    "palabra[12:21]"
   ]
  },
  {
   "cell_type": "code",
   "execution_count": 17,
   "metadata": {},
   "outputs": [
    {
     "data": {
      "text/plain": [
       "1"
      ]
     },
     "execution_count": 17,
     "metadata": {},
     "output_type": "execute_result"
    }
   ],
   "source": [
    "mis_numeros=[6,2,9,1,8,16,3,18,10, 17]\n",
    "##mis_numeros.sort()\n",
    "##mis_numeros.sort(reverse=True)\n",
    "mis_numeros.count(2)\n",
    "##print(mis_numeros)"
   ]
  },
  {
   "cell_type": "markdown",
   "metadata": {},
   "source": [
    "\\\n",
    "^\n",
    "$$\\frac{1}{2}\\sum{i}^{n} x_i$$\n"
   ]
  },
  {
   "cell_type": "code",
   "execution_count": 21,
   "metadata": {},
   "outputs": [
    {
     "name": "stdout",
     "output_type": "stream",
     "text": [
      "9.0\n"
     ]
    }
   ],
   "source": [
    "#sacar media\n",
    "promedio=sum(mis_numeros)/len(mis_numeros)\n",
    "print(promedio)"
   ]
  },
  {
   "cell_type": "code",
   "execution_count": 23,
   "metadata": {},
   "outputs": [
    {
     "name": "stdout",
     "output_type": "stream",
     "text": [
      "1\n",
      "18\n"
     ]
    }
   ],
   "source": [
    "print(min(mis_numeros))\n",
    "print(max(mis_numeros))\n"
   ]
  },
  {
   "cell_type": "code",
   "execution_count": null,
   "metadata": {},
   "outputs": [],
   "source": []
  }
 ],
 "metadata": {
  "kernelspec": {
   "display_name": "Python 3.8.10 64-bit (microsoft store)",
   "language": "python",
   "name": "python3"
  },
  "language_info": {
   "codemirror_mode": {
    "name": "ipython",
    "version": 3
   },
   "file_extension": ".py",
   "mimetype": "text/x-python",
   "name": "python",
   "nbconvert_exporter": "python",
   "pygments_lexer": "ipython3",
   "version": "3.8.10"
  },
  "orig_nbformat": 4,
  "vscode": {
   "interpreter": {
    "hash": "a06d58e03d0336be2e768937ced684273b0002afc96425abcd6e235c2e25d7e6"
   }
  }
 },
 "nbformat": 4,
 "nbformat_minor": 2
}
