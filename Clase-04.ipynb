{
 "cells": [
  {
   "attachments": {},
   "cell_type": "markdown",
   "metadata": {},
   "source": [
    "# Clase 4 funciones"
   ]
  },
  {
   "cell_type": "code",
   "execution_count": 7,
   "metadata": {},
   "outputs": [
    {
     "data": {
      "text/plain": [
       "18"
      ]
     },
     "execution_count": 7,
     "metadata": {},
     "output_type": "execute_result"
    }
   ],
   "source": [
    "def sumar (a,b):\n",
    "    resultado = a+b\n",
    "    return resultado\n",
    "sumar(8,10)"
   ]
  },
  {
   "cell_type": "code",
   "execution_count": 9,
   "metadata": {},
   "outputs": [
    {
     "data": {
      "text/plain": [
       "19"
      ]
     },
     "execution_count": 9,
     "metadata": {},
     "output_type": "execute_result"
    }
   ],
   "source": [
    "def sumar(a,b):\n",
    "    \"\"\"\"Funcion para sumar 2 numeros\n",
    "    ## Parámetros\n",
    "    # ab, valores : enteros\n",
    "    ## Return \n",
    "    # Regresa el numero de a + b\"\"\"\n",
    "\n",
    "    resultado = a+b\n",
    "    return resultado\n",
    "\n",
    "sumar(9,10)"
   ]
  },
  {
   "cell_type": "code",
   "execution_count": 18,
   "metadata": {},
   "outputs": [
    {
     "data": {
      "text/plain": [
       "494.00000000000006"
      ]
     },
     "execution_count": 18,
     "metadata": {},
     "output_type": "execute_result"
    }
   ],
   "source": [
    "def dolaresPesos(dolar):\n",
    "    \"\"\"# Funcion para transformar dolar a pesos\n",
    "    \"\"\"\n",
    "    \n",
    "    peso = 19.76\n",
    "    cambio = dolar * peso\n",
    "    return cambio\n",
    "dolaresPesos(25)\n"
   ]
  },
  {
   "cell_type": "code",
   "execution_count": 20,
   "metadata": {},
   "outputs": [],
   "source": [
    "def promedio(lista):\n",
    "   \"\"\" ## Devolver el promedio de una lista\"\"\"\n",
    "   n = len(lista)\n",
    "   suma = sum(lista)\n",
    "   return suma/n"
   ]
  },
  {
   "cell_type": "code",
   "execution_count": 24,
   "metadata": {},
   "outputs": [
    {
     "data": {
      "text/plain": [
       "5.0"
      ]
     },
     "execution_count": 24,
     "metadata": {},
     "output_type": "execute_result"
    }
   ],
   "source": [
    "lista= [10,10,10]\n",
    "promedio(lista)\n",
    "\n",
    "promedio([4,5,6])"
   ]
  },
  {
   "cell_type": "code",
   "execution_count": null,
   "metadata": {},
   "outputs": [],
   "source": []
  }
 ],
 "metadata": {
  "kernelspec": {
   "display_name": "Python 3",
   "language": "python",
   "name": "python3"
  },
  "language_info": {
   "codemirror_mode": {
    "name": "ipython",
    "version": 3
   },
   "file_extension": ".py",
   "mimetype": "text/x-python",
   "name": "python",
   "nbconvert_exporter": "python",
   "pygments_lexer": "ipython3",
   "version": "3.8.10"
  },
  "orig_nbformat": 4,
  "vscode": {
   "interpreter": {
    "hash": "a06d58e03d0336be2e768937ced684273b0002afc96425abcd6e235c2e25d7e6"
   }
  }
 },
 "nbformat": 4,
 "nbformat_minor": 2
}
